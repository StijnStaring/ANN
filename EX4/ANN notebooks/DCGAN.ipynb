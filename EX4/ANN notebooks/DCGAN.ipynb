{
  "nbformat": 4,
  "nbformat_minor": 0,
  "metadata": {
    "colab": {
      "name": "DCGAN.ipynb",
      "provenance": [],
      "collapsed_sections": []
    },
    "kernelspec": {
      "name": "python3",
      "display_name": "Python 3"
    },
    "accelerator": "GPU"
  },
  "cells": [
    {
      "cell_type": "code",
      "metadata": {
        "id": "bvxSPAKQj9gd"
      },
      "source": [
        "%tensorflow_version 1.x\n",
        "!pip install mock\n",
        "!pip install tensorflow-gan\n",
        "!pip install tensorflow-datasets==3.2.1 \n",
        "\n",
        "%cd /content\n",
        "! rm -rf gan-tools\n",
        "! rm -rf stylegan-lowshot\n",
        "!git clone --single-branch --depth=1 --branch master https://github.com/hannesdm/gan-tools.git\n",
        "!git clone --single-branch --depth=1 --branch main https://github.com/hannesdm/stylegan-lowshot.git\n",
        "%cd gan-tools\n",
        "from keras.datasets import mnist\n",
        "import impl\n",
        "from impl import *\n",
        "from core import vis\n",
        "from core import gan\n",
        "from core import constraint\n",
        "import matplotlib.pyplot as plt\n",
        "plt.rcParams['image.cmap'] = 'gray'\n",
        "plt.rcParams['axes.grid'] = False\n"
      ],
      "execution_count": null,
      "outputs": []
    },
    {
      "cell_type": "markdown",
      "metadata": {
        "id": "RqQjkSRHseDK"
      },
      "source": [
        "## Load the cifar10 data\n",
        "The CIFAR-10 dataset consists of 60000 32x32 colour images in 10 classes, with 6000 images per class. There are 50000 training images and 10000 test images.  <br/>\n",
        "**Exercise** We will select a single class of this dataset to model. This can be done by setting the **model_class** variable to the corresponding class. <br/>\n",
        "One cell lower, a few images of the selected class are shown."
      ]
    },
    {
      "cell_type": "code",
      "metadata": {
        "id": "XbdA5WBEkf05"
      },
      "source": [
        "model_class = 1\n",
        "(X_train_original, Y_train), (_, _) = cifar10.load_data()\n",
        "X_train_single_class = X_train_original[np.where(np.squeeze(Y_train) == model_class)]\n",
        "X_train = X_train_single_class / 127.5 - 1."
      ],
      "execution_count": null,
      "outputs": []
    },
    {
      "cell_type": "code",
      "metadata": {
        "id": "kHRNCEkA-VA6"
      },
      "source": [
        "grid = vis.image_grid(X_train_single_class[0:20], 5)\n",
        "plt.imshow(grid)"
      ],
      "execution_count": null,
      "outputs": []
    },
    {
      "cell_type": "markdown",
      "metadata": {
        "id": "edP72fs0v6bs"
      },
      "source": [
        "## Train the DCGAN\n",
        "<img src=\"https://i.imgur.com/NFUiEf5.png\" width=\"450\"> <br/>\n",
        "The following code will train a GAN with a working DCGAN architecture. This training can be controlled by the following parameters:\n",
        "\n",
        "\n",
        "*   **batches**: The number of batches the GAN should train on.\n",
        "*   **batch_size**: The size of each batch.\n",
        "*    **plot_interval**: After how many batches the generator should be sampled and the images shown.\n",
        "\n",
        "The default parameters may be kept. <br/>\n",
        "Make sure to train the GAN for a sufficient amount of time in order to see realistic samples. At any point, the training may be stopped by clicking on the stop button or on 'interrupt execution' in the runtime menu at the top of the page.<br/> In the same menu, the runtime type should also be changed to 'GPU'. This will speed up the training of the models. <br/>\n",
        "**Exercise** Comment on the loss and accuracy of the generator and discriminator, shown during training and discuss its stability. Explain this in function of the GAN setting.\n",
        "\n",
        "\n",
        "\n"
      ]
    },
    {
      "cell_type": "code",
      "metadata": {
        "id": "yWgM6KsDmVxU"
      },
      "source": [
        "gan = cifar10_dcgan()\n",
        "gan.train_random_batches(X_train, batches = 20000, batch_size=32, plot_interval = 50)\n",
        "vis.show_gan_image_predictions(gan, 32)"
      ],
      "execution_count": null,
      "outputs": []
    },
    {
      "cell_type": "code",
      "metadata": {
        "id": "ev4HeAyrxYJQ"
      },
      "source": [
        "# Plot the final loss curves\r\n",
        "def moving_average(a, n=10) :\r\n",
        "    s = np.cumsum(a, dtype=float)\r\n",
        "    s[n:] = s[n:] - s[:-n]\r\n",
        "    return s[n - 1:] / n\r\n",
        "\r\n",
        "\r\n",
        "plt.figure(figsize=(16, 12))\r\n",
        "plt.plot(moving_average(gan.d_losses), c=\"blue\", label=\"D Loss\")\r\n",
        "plt.plot(moving_average(gan.g_losses), c=\"red\", label=\"G Loss\")\r\n",
        "plt.plot(moving_average(gan.d_accs), c=\"green\", label=\"D Accuracy\")\r\n",
        "plt.plot(moving_average(gan.g_accs), c=\"yellow\", label=\"G Accuracy\")\r\n",
        "plt.legend(loc=\"upper left\")\r\n",
        "plt.show()"
      ],
      "execution_count": null,
      "outputs": []
    },
    {
      "cell_type": "markdown",
      "metadata": {
        "id": "c_s7JNgnDNMq"
      },
      "source": [
        "## Stability in GANs\n",
        "Sadly, training a GAN is not always easy. <br/>\n",
        "Stability during training is important for both discriminator and generator to learn. <br/>\n",
        "Below is a short video (50s) showing the intermediate results of a GAN being trained on mnist. The final result is a phenomenon known as 'mode collapse'. <br/>\n",
        "<img src='https://i.imgur.com/lG35xDP.gif'>\n"
      ]
    },
    {
      "cell_type": "markdown",
      "metadata": {
        "id": "2PHEJ1xk1TLz"
      },
      "source": [
        "## Optional: High Quality Image Generation with StyleGAN\r\n",
        "\r\n",
        "The DCGAN model was an important point in the history of generative adversarial networks. However, these models have difficulty with high resolution images and have long been passed by the current state of the art. </br>\r\n",
        "State of the art models for high resolution image generation, such as BigGAN and StyleGAN, can generate new images with high fidelity of e.g. 1024x1024 image data sets. The trade-off is that these models can require weeks to train even with the best GPUs and/or TPUs available. </br>\r\n",
        "</br>\r\n",
        "**Few-shot learning** A special setting for training generative models is low-shot/few-shot learning where one attempts to create a model that generalizes well on as few samples as possible. This setting allows the power of the state of the art models to be demonstrated while still being able to be trained in a reasonable time. </br>\r\n",
        "\r\n",
        "**StyleGAN few-shot**\r\n",
        "The following script allows you to train a StyleGAN with differentiable augmentations on your own data. Few-shot models work best with uniform, clean data where the object takes up the majority of the image.</br>\r\n",
        "To the left of Google Colab, click the folder icon on the sidebar, create a new folder in the file explorer and upload your images into it. It's recommended to have at least 100 images. Next, replace the placeholder in the command below with the link to your uploaded folder (e.g. /content/mydata) and execute the command. It's recommended to try out different types of data to see what works and what doesn't.</br>\r\n",
        "Alternatively, replace the placeholder by the name of one of the pre-existing data sets:\r\n",
        "\r\n",
        "*   100-shot-obama\r\n",
        "*   100-shot-grumpy_cat\r\n",
        "*   100-shot-panda\r\n",
        "*   100-shot-bridge_of_sighs\r\n",
        "*   100-shot-temple_of_heaven\r\n",
        "*   100-shot-wuzhen\r\n",
        "\r\n",
        "The script will output intermediate images while training. More full quality samples can be found in the /content/stylegan-lowshot/results folder. Take note that it can take multiple hours before reasonable images start to be generated even when working with these very small data sets.\r\n",
        "\r\n",
        "\r\n",
        "\r\n",
        "\r\n"
      ]
    },
    {
      "cell_type": "code",
      "metadata": {
        "id": "1dCd40oU1SDs"
      },
      "source": [
        "%cd /content/stylegan-lowshot\r\n",
        "%run run_low_shot.py --dataset=/content/mydata --num-gpus=1 --resolution=128 --show-samples-every=1"
      ],
      "execution_count": null,
      "outputs": []
    }
  ]
}