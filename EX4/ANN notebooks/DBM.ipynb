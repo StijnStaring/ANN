{
 "nbformat": 4,
 "nbformat_minor": 0,
 "metadata": {
  "colab": {
   "name": "DBM no pretraining.ipynb",
   "version": "0.3.2",
   "provenance": [],
   "collapsed_sections": [],
   "toc_visible": true
  },
  "kernelspec": {
   "name": "python3",
   "language": "python",
   "display_name": "Python 3"
  },
  "accelerator": "GPU"
 },
 "cells": [
  {
   "metadata": {
    "id": "c2ut_4TUa9YI",
    "colab_type": "code",
    "colab": {}
   },
   "cell_type": "code",
   "source": [
    "%tensorflow_version 1.x\n",
    "\n",
    "%cd /content\n",
    "!pip install nose\n",
    "!rm -rf boltzmann-machines\n",
    "!git clone --single-branch --depth=1 --branch with-models https://github.com/hannesdm/boltzmann-machines.git\n",
    "%cd boltzmann-machines\n",
    "import numpy as np\n",
    "import matplotlib.pyplot as plt\n",
    "plt.rcParams['image.cmap'] = 'gray'\n",
    "plt.rcParams['axes.grid'] = False\n",
    "import logging, os\n",
    "logging.disable(logging.WARNING)\n",
    "os.environ[\"TF_CPP_MIN_LOG_LEVEL\"] = \"3\"\n",
    "\n",
    "from examples import callable_dbm_mnist\n",
    "from keras.datasets import mnist\n",
    "from sklearn.neural_network import BernoulliRBM\n",
    "from sklearn import preprocessing\n",
    "from sklearn.metrics import accuracy_score\n",
    "from boltzmann_machines import DBM\n",
    "from boltzmann_machines.rbm import BernoulliRBM\n",
    "from boltzmann_machines.utils import im_plot, Stopwatch"
   ],
   "execution_count": 4,
   "outputs": [
    {
     "name": "stderr",
     "output_type": "stream",
     "text": [
      "UsageError: Line magic function `%tensorflow_version` not found.\n"
     ]
    }
   ]
  },
  {
   "metadata": {
    "id": "h76_RkCZbw1g",
    "colab_type": "text"
   },
   "cell_type": "markdown",
   "source": [
    "## Load the mnist data"
   ]
  },
  {
   "metadata": {
    "id": "umyVA70DYEmM",
    "colab_type": "code",
    "colab": {}
   },
   "cell_type": "code",
   "source": [
    "(X_train, Y_train), (X_test, Y_test) = mnist.load_data()\n",
    "X_train = X_train.reshape((X_train.shape[0], -1))\n",
    "X_test = X_test.reshape((X_test.shape[0],-1))\n",
    "X_train = X_train.astype('float32') / 255\n",
    "X_test = X_test.astype('float32') / 255"
   ],
   "execution_count": 2,
   "outputs": [
    {
     "ename": "NameError",
     "evalue": "name 'mnist' is not defined",
     "output_type": "error",
     "traceback": [
      "\u001B[1;31m---------------------------------------------------------------------------\u001B[0m",
      "\u001B[1;31mNameError\u001B[0m                                 Traceback (most recent call last)",
      "\u001B[1;32m<ipython-input-2-0d75a18bce0c>\u001B[0m in \u001B[0;36m<module>\u001B[1;34m\u001B[0m\n\u001B[1;32m----> 1\u001B[1;33m \u001B[1;33m(\u001B[0m\u001B[0mX_train\u001B[0m\u001B[1;33m,\u001B[0m \u001B[0mY_train\u001B[0m\u001B[1;33m)\u001B[0m\u001B[1;33m,\u001B[0m \u001B[1;33m(\u001B[0m\u001B[0mX_test\u001B[0m\u001B[1;33m,\u001B[0m \u001B[0mY_test\u001B[0m\u001B[1;33m)\u001B[0m \u001B[1;33m=\u001B[0m \u001B[0mmnist\u001B[0m\u001B[1;33m.\u001B[0m\u001B[0mload_data\u001B[0m\u001B[1;33m(\u001B[0m\u001B[1;33m)\u001B[0m\u001B[1;33m\u001B[0m\u001B[1;33m\u001B[0m\u001B[0m\n\u001B[0m\u001B[0;32m      2\u001B[0m \u001B[0mX_train\u001B[0m \u001B[1;33m=\u001B[0m \u001B[0mX_train\u001B[0m\u001B[1;33m.\u001B[0m\u001B[0mreshape\u001B[0m\u001B[1;33m(\u001B[0m\u001B[1;33m(\u001B[0m\u001B[0mX_train\u001B[0m\u001B[1;33m.\u001B[0m\u001B[0mshape\u001B[0m\u001B[1;33m[\u001B[0m\u001B[1;36m0\u001B[0m\u001B[1;33m]\u001B[0m\u001B[1;33m,\u001B[0m \u001B[1;33m-\u001B[0m\u001B[1;36m1\u001B[0m\u001B[1;33m)\u001B[0m\u001B[1;33m)\u001B[0m\u001B[1;33m\u001B[0m\u001B[1;33m\u001B[0m\u001B[0m\n\u001B[0;32m      3\u001B[0m \u001B[0mX_test\u001B[0m \u001B[1;33m=\u001B[0m \u001B[0mX_test\u001B[0m\u001B[1;33m.\u001B[0m\u001B[0mreshape\u001B[0m\u001B[1;33m(\u001B[0m\u001B[1;33m(\u001B[0m\u001B[0mX_test\u001B[0m\u001B[1;33m.\u001B[0m\u001B[0mshape\u001B[0m\u001B[1;33m[\u001B[0m\u001B[1;36m0\u001B[0m\u001B[1;33m]\u001B[0m\u001B[1;33m,\u001B[0m\u001B[1;33m-\u001B[0m\u001B[1;36m1\u001B[0m\u001B[1;33m)\u001B[0m\u001B[1;33m)\u001B[0m\u001B[1;33m\u001B[0m\u001B[1;33m\u001B[0m\u001B[0m\n\u001B[0;32m      4\u001B[0m \u001B[0mX_train\u001B[0m \u001B[1;33m=\u001B[0m \u001B[0mX_train\u001B[0m\u001B[1;33m.\u001B[0m\u001B[0mastype\u001B[0m\u001B[1;33m(\u001B[0m\u001B[1;34m'float32'\u001B[0m\u001B[1;33m)\u001B[0m \u001B[1;33m/\u001B[0m \u001B[1;36m255\u001B[0m\u001B[1;33m\u001B[0m\u001B[1;33m\u001B[0m\u001B[0m\n\u001B[0;32m      5\u001B[0m \u001B[0mX_test\u001B[0m \u001B[1;33m=\u001B[0m \u001B[0mX_test\u001B[0m\u001B[1;33m.\u001B[0m\u001B[0mastype\u001B[0m\u001B[1;33m(\u001B[0m\u001B[1;34m'float32'\u001B[0m\u001B[1;33m)\u001B[0m \u001B[1;33m/\u001B[0m \u001B[1;36m255\u001B[0m\u001B[1;33m\u001B[0m\u001B[1;33m\u001B[0m\u001B[0m\n",
      "\u001B[1;31mNameError\u001B[0m: name 'mnist' is not defined"
     ]
    }
   ]
  },
  {
   "metadata": {
    "id": "HegMeKq0b8s0",
    "colab_type": "text"
   },
   "cell_type": "markdown",
   "source": [
    "## Load a pretrained model and visualise the components\n",
    "To prevent losing too much time on training a deep model, a working pretrained RBM will be used. <br/>\n",
    "**Exercise** Observe the components (weights of each neuron) of the DBM and compare with the components of the previously trained RBM in exercise 1. What is the difference?<br/>\n",
    "Can you explain the difference between the components of the first and second layer of the DBM?\n"
   ]
  },
  {
   "metadata": {
    "id": "s0X2KqR_fUU5",
    "colab_type": "code",
    "colab": {}
   },
   "cell_type": "code",
   "source": [
    "rbm1 = BernoulliRBM.load_model('/content/boltzmann-machines/models/dbm_mnist_rbm1/')\n",
    "rbm2 = BernoulliRBM.load_model('/content/boltzmann-machines/models/dbm_mnist_rbm2/')\n",
    "dbm = DBM.load_model('/content/boltzmann-machines/models/dbm_mnist/')\n",
    "dbm.load_rbms([rbm1, rbm2])"
   ],
   "execution_count": 0,
   "outputs": []
  },
  {
   "metadata": {
    "id": "6VM7wmSKfxHl",
    "colab_type": "code",
    "colab": {}
   },
   "cell_type": "code",
   "source": [
    "W1_joint = dbm.get_tf_params(scope='weights')['W']\n",
    "\n",
    "fig = plt.figure(figsize=(10, 10))\n",
    "im_plot(W1_joint.T, shape=(28, 28), title='First 100 filters of the first layer of the DBM',\n",
    "        title_params={'fontsize': 20}, imshow_params={'cmap': plt.cm.gray})"
   ],
   "execution_count": 0,
   "outputs": []
  },
  {
   "metadata": {
    "id": "7EXVU-3_f4dA",
    "colab_type": "code",
    "colab": {}
   },
   "cell_type": "code",
   "source": [
    "W2_joint = dbm.get_tf_params(scope='weights')['W_1']\n",
    "U_joint = W1_joint.dot(W2_joint)\n",
    "\n",
    "fig = plt.figure(figsize=(10, 10))\n",
    "im_plot(U_joint.T, shape=(28, 28), title='First 100 filters of the 2nd layer of the DBM',\n",
    "        title_params={'fontsize': 20}, imshow_params={'cmap': plt.cm.gray})"
   ],
   "execution_count": 0,
   "outputs": []
  },
  {
   "metadata": {
    "id": "HYaG0cv2gtfG",
    "colab_type": "text"
   },
   "cell_type": "markdown",
   "source": [
    "## Sample the DBM\n",
    "**Exercise** Comment on the quality of the samples and compare them with the samples from the RBM.<br/>\n",
    "Do you see a difference in quality? Explain why."
   ]
  },
  {
   "metadata": {
    "id": "pqILfLzKgAv-",
    "colab_type": "code",
    "colab": {}
   },
   "cell_type": "code",
   "source": [
    "gibbs_steps = 1\n",
    "\n",
    "with Stopwatch(verbose=True) as s:\n",
    "    V = dbm.sample_v(n_gibbs_steps=gibbs_steps)\n",
    "\n",
    "fig = plt.figure(figsize=(10, 10))\n",
    "im_plot(V, shape=(28, 28), title='Samples generated by DBM after '+str(gibbs_steps) + ' Gibbs steps',\n",
    "        imshow_params={'cmap': plt.cm.gray})"
   ],
   "execution_count": 0,
   "outputs": []
  }
 ]
}